{
  "nbformat": 4,
  "nbformat_minor": 0,
  "metadata": {
    "colab": {
      "provenance": [],
      "authorship_tag": "ABX9TyN+6i3PEiSahmp+3R8LuLfR",
      "include_colab_link": true
    },
    "kernelspec": {
      "name": "python3",
      "display_name": "Python 3"
    },
    "language_info": {
      "name": "python"
    }
  },
  "cells": [
    {
      "cell_type": "markdown",
      "metadata": {
        "id": "view-in-github",
        "colab_type": "text"
      },
      "source": [
        "<a href=\"https://colab.research.google.com/github/Nancy2615/Java21/blob/main/digital1.ipynb\" target=\"_parent\"><img src=\"https://colab.research.google.com/assets/colab-badge.svg\" alt=\"Open In Colab\"/></a>"
      ]
    },
    {
      "cell_type": "code",
      "execution_count": 40,
      "metadata": {
        "id": "JyhhYvsz0Fbb"
      },
      "outputs": [],
      "source": [
        "import keyword\n",
        "import requests\n",
        "from os import path\n",
        "import argparse\n",
        "import sys\n",
        "\n",
        "\n"
      ]
    },
    {
      "cell_type": "code",
      "source": [
        "parser = argparse.ArgumentParser()\n",
        "parser.add_argument('-t','--target',help='Indicar el dominio de la victima')\n",
        "parser = parser.parse_args()\n"
      ],
      "metadata": {
        "id": "LZGi8WeVB5QB"
      },
      "execution_count": null,
      "outputs": []
    },
    {
      "cell_type": "code",
      "source": [
        "def main():\n",
        "  if parser.target:\n",
        "      if path.exists('subdominios.txt'):\n",
        "        wordlist = open('subdominios.txt','r')\n",
        "        wordlist = wordlist.read().split('/n')\n",
        "\n",
        "        for subdominio in wordlist:\n",
        "          url = \"http://\"=subdominio=\".\"+parser.target\n",
        "          try:\n",
        "              requests.get(url)\n",
        "              except request.ConnectionError:\n",
        "                pass\n",
        "              else:\n",
        "                print(\"(+) subdominio encontrado: \" + url)\n",
        "\n",
        "        for subdominio in wordlist:\n",
        "          url = \"https://\"=subdominio=\".\"+parser.target\n",
        "          try:\n",
        "              requests.get(url)\n",
        "              except request.ConnectionError:\n",
        "                pass\n",
        "              else:\n",
        "                print(\"(+) subdominio encontrado: \" + url)\n",
        "else:\n",
        "  print(\"(+)Ingresa un dominio\")\n",
        "\n",
        "\n",
        "\n",
        "        print(subdominio)\n",
        "\n",
        "if __name__=='__main__':\n",
        "  try:\n",
        "      main()\n",
        "  except KeyboardInterrupt:\n",
        "    sys.exit()"
      ],
      "metadata": {
        "id": "lt4Fc-P4Hbky"
      },
      "execution_count": null,
      "outputs": []
    }
  ]
}