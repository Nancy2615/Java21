{
  "nbformat": 4,
  "nbformat_minor": 0,
  "metadata": {
    "colab": {
      "provenance": [],
      "authorship_tag": "ABX9TyN1ZjYHPdUQjwal1F/cLNsI",
      "include_colab_link": true
    },
    "kernelspec": {
      "name": "python3",
      "display_name": "Python 3"
    },
    "language_info": {
      "name": "python"
    }
  },
  "cells": [
    {
      "cell_type": "markdown",
      "metadata": {
        "id": "view-in-github",
        "colab_type": "text"
      },
      "source": [
        "<a href=\"https://colab.research.google.com/github/Nancy2615/Java21/blob/main/digital.ipynb\" target=\"_parent\"><img src=\"https://colab.research.google.com/assets/colab-badge.svg\" alt=\"Open In Colab\"/></a>"
      ]
    },
    {
      "cell_type": "code",
      "execution_count": 5,
      "metadata": {
        "id": "JyhhYvsz0Fbb",
        "colab": {
          "base_uri": "https://localhost:8080/",
          "height": 145
        },
        "outputId": "09f99681-d649-4b3f-8ac2-dec6618d2408"
      },
      "outputs": [
        {
          "output_type": "error",
          "ename": "SyntaxError",
          "evalue": "ignored",
          "traceback": [
            "\u001b[0;36m  File \u001b[0;32m\"<ipython-input-5-571c47e9574f>\"\u001b[0;36m, line \u001b[0;32m30\u001b[0m\n\u001b[0;31m    else:\u001b[0m\n\u001b[0m    ^\u001b[0m\n\u001b[0;31mSyntaxError\u001b[0m\u001b[0;31m:\u001b[0m invalid syntax\n"
          ]
        }
      ],
      "source": [
        "import requests\n",
        "from os import path\n",
        "import argparse\n",
        "import sys\n",
        "parser =argparser.ArgumentParser()\n",
        "parser.ass_argument('-t','--target', help='indicar el dominio de la victima')\n",
        "parser = parser.parse_args()\n",
        "\n",
        "def main():\n",
        "    if parser.target('subdominios.txt'):\n",
        "       wordlist = open('subdominios.txt','r')\n",
        "       wordlist = wordlist.read().split('/n')\n",
        "\n",
        "       for subdominio in wordlist:\n",
        "           url = \"http//\"+subdominio+\".\"+parser.target\n",
        "           try:\n",
        "               requests.get(url)\n",
        "           except requests.ConnectionError:\n",
        "               pass\n",
        "           else:\n",
        "              print(\"(+) Subdominio encontrado:\" + url)\n",
        "       for subdominio in wordlist:\n",
        "           url = \"http//\"+subdominio+\".\"+parser.target\n",
        "           try:\n",
        "               requests.get(url)\n",
        "           except requests.ConnectionError:\n",
        "              pass\n",
        "           else:\n",
        "              print(\"(+) Subdominio encontrado:\" + url)\n",
        "else:\n",
        "    print(\"(+) Ingresa un dominio\")\n",
        "\n",
        "\n",
        "\n",
        "\n",
        "if __name__=='__main__';\n",
        "    try:\n",
        "        main()\n",
        "    expect keyboardInterrupt\n",
        "      sys.exit()\n"
      ]
    }
  ]
}