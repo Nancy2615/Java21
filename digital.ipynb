{
  "nbformat": 4,
  "nbformat_minor": 0,
  "metadata": {
    "colab": {
      "provenance": [],
      "authorship_tag": "ABX9TyO2Thj8zvl16l75/RMW6Qsr",
      "include_colab_link": true
    },
    "kernelspec": {
      "name": "python3",
      "display_name": "Python 3"
    },
    "language_info": {
      "name": "python"
    }
  },
  "cells": [
    {
      "cell_type": "markdown",
      "metadata": {
        "id": "view-in-github",
        "colab_type": "text"
      },
      "source": [
        "<a href=\"https://colab.research.google.com/github/Nancy2615/Java21/blob/main/digital.ipynb\" target=\"_parent\"><img src=\"https://colab.research.google.com/assets/colab-badge.svg\" alt=\"Open In Colab\"/></a>"
      ]
    },
    {
      "cell_type": "code",
      "execution_count": 17,
      "metadata": {
        "id": "JyhhYvsz0Fbb",
        "colab": {
          "base_uri": "https://localhost:8080/",
          "height": 183
        },
        "outputId": "8a6c23ed-da34-416f-9ba8-396b1c7a0b55"
      },
      "outputs": [
        {
          "output_type": "stream",
          "name": "stderr",
          "text": [
            "usage: colab_kernel_launcher.py [-h] [-t TARGET]\n",
            "colab_kernel_launcher.py: error: unrecognized arguments: -f /root/.local/share/jupyter/runtime/kernel-3c1cea0f-8fba-4181-a6b8-567b0e29b8e7.json\n"
          ]
        },
        {
          "output_type": "error",
          "ename": "SystemExit",
          "evalue": "ignored",
          "traceback": [
            "An exception has occurred, use %tb to see the full traceback.\n",
            "\u001b[0;31mSystemExit\u001b[0m\u001b[0;31m:\u001b[0m 2\n"
          ]
        }
      ],
      "source": [
        "import requests\n",
        "from os import path\n",
        "import argparse\n",
        "import sys\n",
        "\n",
        "parser = argparse.ArgumentParser()\n",
        "parser.add_argument('-t','--target',help='indicar el dominio de la victima')\n",
        "parser = parser.parse_args()\n",
        "\n",
        "def main():\n",
        "    if parser.target:\n",
        "      if path.exists('subdominios.txt'):\n",
        "       wordlist = open('subdominios.txt','r')\n",
        "       wordlist = wordlist.read().split('/n')\n",
        "\n",
        "       for subdominio in wordlist:\n",
        "           url = \"http//\"+subdominio+\".\"+parser.target\n",
        "           try:\n",
        "               requests.get(url)\n",
        "           except requests.ConnectionError:\n",
        "               pass\n",
        "           else:\n",
        "              print(\"(+) Subdominio encontrado:\" + url)\n",
        "\n",
        "       for subdominio in wordlist:\n",
        "           url = \"http//\"+subdominio+\".\"+parser.target\n",
        "           try:\n",
        "               requests.get(url)\n",
        "           except requests.ConnectionError:\n",
        "              pass\n",
        "           else:\n",
        "              print(\"(+) Subdominio encontrado:\" + url)\n",
        "    else:\n",
        "           print(\"(+) Ingresa un dominio\")\n",
        "\n",
        "\n",
        "\n",
        "\n",
        "if __name__=='__main__':\n",
        "    try:\n",
        "        main()\n",
        "    except KeyboardInterrupt:\n",
        "         sys.exit()\n"
      ]
    }
  ]
}