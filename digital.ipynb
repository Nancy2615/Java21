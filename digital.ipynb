{
  "nbformat": 4,
  "nbformat_minor": 0,
  "metadata": {
    "colab": {
      "provenance": [],
      "authorship_tag": "ABX9TyPp537baUQmAOJgPWYW3J+9",
      "include_colab_link": true
    },
    "kernelspec": {
      "name": "python3",
      "display_name": "Python 3"
    },
    "language_info": {
      "name": "python"
    }
  },
  "cells": [
    {
      "cell_type": "markdown",
      "metadata": {
        "id": "view-in-github",
        "colab_type": "text"
      },
      "source": [
        "<a href=\"https://colab.research.google.com/github/Nancy2615/Java21/blob/main/digital.ipynb\" target=\"_parent\"><img src=\"https://colab.research.google.com/assets/colab-badge.svg\" alt=\"Open In Colab\"/></a>"
      ]
    },
    {
      "cell_type": "code",
      "execution_count": 8,
      "metadata": {
        "id": "JyhhYvsz0Fbb",
        "colab": {
          "base_uri": "https://localhost:8080/",
          "height": 140
        },
        "outputId": "a2607081-fbec-4c63-f8c3-c12d3c09f17c"
      },
      "outputs": [
        {
          "output_type": "error",
          "ename": "IndentationError",
          "evalue": "ignored",
          "traceback": [
            "\u001b[0;36m  File \u001b[0;32m\"<tokenize>\"\u001b[0;36m, line \u001b[0;32m23\u001b[0m\n\u001b[0;31m    expect keyboardInterrupt;\u001b[0m\n\u001b[0m    ^\u001b[0m\n\u001b[0;31mIndentationError\u001b[0m\u001b[0;31m:\u001b[0m unindent does not match any outer indentation level\n"
          ]
        }
      ],
      "source": [
        "import request\n",
        "from os import path\n",
        "import argparse\n",
        "import sys\n",
        "parser =argparser.ArgumentParser()\n",
        "parser.ass_argument('-t','--target', help='indicar el dominio de la victima')\n",
        "parser = parser.parse_args()\n",
        "\n",
        "def main():\n",
        "    if parser.target('subdominios.txt'):\n",
        "      wordlist = open('subdominios.txt','r')\n",
        "      wordlist = wordlist.read().split('/n')\n",
        "\n",
        "      for subdominio in wordlist:\n",
        "        url = \"http//\"+subdominio+\".\"+parser.target\n",
        "        try:\n",
        "            requests.get(url)\n",
        "      except requests.ConnectionError;\n",
        "          pass\n",
        "      else:\n",
        "\n",
        "\n",
        "\n",
        "if __name__=='__main__';\n",
        "    try:\n",
        "        main()\n",
        "   expect keyboardInterrupt;\n",
        "      sys.exit()\n"
      ]
    }
  ]
}